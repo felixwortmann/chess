{
 "cells": [
  {
   "cell_type": "code",
   "execution_count": null,
   "metadata": {},
   "outputs": [],
   "source": [
    "import chess\n",
    "import random\n",
    "import math\n",
    "import copy\n",
    "import time\n",
    "from chess_utils import board_is_in_end_state, return_result, print_board_state\n",
    "from IPython.display import display, Image, clear_output"
   ]
  },
  {
   "cell_type": "code",
   "execution_count": null,
   "metadata": {
    "scrolled": true
   },
   "outputs": [],
   "source": [
    "%run chess_core.ipynb"
   ]
  },
  {
   "cell_type": "code",
   "execution_count": null,
   "metadata": {},
   "outputs": [],
   "source": [
    "# Define Styles\n",
    "from IPython.display import SVG, display\n",
    "from IPython.core.display import HTML\n",
    "with open('style.css','r') as file:\n",
    "\tcss = file.read()\n",
    "HTML(css)"
   ]
  },
  {
   "cell_type": "code",
   "execution_count": null,
   "metadata": {},
   "outputs": [],
   "source": [
    "board = chess.Board()\n",
    "board.root()\n",
    "display(board)"
   ]
  },
  {
   "cell_type": "code",
   "execution_count": null,
   "metadata": {},
   "outputs": [],
   "source": [
    "%%time\n",
    "while True:\n",
    "    clear_output(wait=True)\n",
    "    display(board)\n",
    "    print(\"Player Move:\")\n",
    "    player_move = input()\n",
    "    board.push(chess.Move.from_uci(player_move))\n",
    "    clear_output(wait=True)\n",
    "    display(board)\n",
    "    value, moves = minimax_for_color(board,False, 3)\n",
    "    board.push(moves[0])\n",
    "    print(\"AI Move:\\n\",moves[0],\"| Value:\",value)"
   ]
  }
 ],
 "metadata": {
  "kernelspec": {
   "display_name": "Python 3",
   "language": "python",
   "name": "python3"
  },
  "language_info": {
   "codemirror_mode": {
    "name": "ipython",
    "version": 3
   },
   "file_extension": ".py",
   "mimetype": "text/x-python",
   "name": "python",
   "nbconvert_exporter": "python",
   "pygments_lexer": "ipython3",
   "version": "3.9.1"
  }
 },
 "nbformat": 4,
 "nbformat_minor": 4
}
