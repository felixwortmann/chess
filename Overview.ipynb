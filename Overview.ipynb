{
 "cells": [
  {
   "cell_type": "code",
   "execution_count": 1,
   "metadata": {},
   "outputs": [
    {
     "data": {
      "text/html": [
       "<link href='http://fonts.googleapis.com/css?family=Alegreya+Sans:100,300,400,500,700,800,900,100italic,300italic,400italic,500italic,700italic,800italic,900italic' rel='stylesheet' type='text/css'>\n",
       "<link href='http://fonts.googleapis.com/css?family=Arvo:400,700,400italic' rel='stylesheet' type='text/css'>\n",
       "<link href='http://fonts.googleapis.com/css?family=PT+Mono' rel='stylesheet' type='text/css'>\n",
       "<link href='http://fonts.googleapis.com/css?family=Shadows+Into+Light' rel='stylesheet' type='text/css'>\n",
       "<link href='http://fonts.googleapis.com/css?family=Philosopher:400,700,400italic,700italic' rel='stylesheet' type='text/css'>\n",
       "\n",
       "<style>\n",
       "\n",
       "@font-face {\n",
       "    font-family: \"Computer Modern\";\n",
       "    src: url('http://mirrors.ctan.org/fonts/cm-unicode/fonts/otf/cmunss.otf');\n",
       "}\n",
       "\n",
       ".container { width: 100% }\n",
       "\n",
       "/* Formatting for header cells */\n",
       ".text_cell_render h1 {\n",
       "    font-family: 'Philosopher', sans-serif;\n",
       "    font-weight: 400;\n",
       "    font-size: 2.2em;\n",
       "    line-height: 100%;\n",
       "    color: rgb(0, 80, 120);\n",
       "    margin-bottom: 0.1em;\n",
       "    margin-top: 0.1em;\n",
       "    display: block;\n",
       "}\t\n",
       ".text_cell_render h2 {\n",
       "    font-family: 'Philosopher', serif;\n",
       "    font-weight: 400;\n",
       "    font-size: 1.9em;\n",
       "    line-height: 100%;\n",
       "    color: rgb(200,100,0);\n",
       "    margin-bottom: 0.1em;\n",
       "    margin-top: 0.1em;\n",
       "    display: block;\n",
       "}\t\n",
       "\n",
       ".text_cell_render h3 {\n",
       "    font-family: 'Philosopher', serif;\n",
       "    margin-top:12px;\n",
       "    margin-bottom: 3px;\n",
       "    font-style: italic;\n",
       "    color: rgb(94,127,192);\n",
       "}\n",
       "\n",
       ".text_cell_render h4 {\n",
       "    font-family: 'Philosopher', serif;\n",
       "}\n",
       "\n",
       ".text_cell_render h5 {\n",
       "    font-family: 'Alegreya Sans', sans-serif;\n",
       "    font-weight: 300;\n",
       "    font-size: 16pt;\n",
       "    color: grey;\n",
       "    font-style: italic;\n",
       "    margin-bottom: .1em;\n",
       "    margin-top: 0.1em;\n",
       "    display: block;\n",
       "}\n",
       "\n",
       ".text_cell_render h6 {\n",
       "    font-family: 'PT Mono', sans-serif;\n",
       "    font-weight: 300;\n",
       "    font-size: 10pt;\n",
       "    color: grey;\n",
       "    margin-bottom: 1px;\n",
       "    margin-top: 1px;\n",
       "}\n",
       "\n",
       ".CodeMirror{\n",
       "        font-family: \"PT Mono\";\n",
       "        font-size: 100%;\n",
       "}\n",
       "\n",
       "</style>\n",
       "\n"
      ],
      "text/plain": [
       "<IPython.core.display.HTML object>"
      ]
     },
     "execution_count": 1,
     "metadata": {},
     "output_type": "execute_result"
    }
   ],
   "source": [
    "from IPython.core.display import HTML\n",
    "\n",
    "with open('style.css', 'r') as file:\n",
    "    css = file.read()\n",
    "HTML(css)"
   ]
  },
  {
   "cell_type": "markdown",
   "metadata": {},
   "source": [
    "# Introduction\n",
    "Chess is a two-player-game where each player has 16 pieces of their respective color (white or black). The pieces are in total eight pawns, two bishops, two knights, two rooks, one queen, and one king. The pieces can each move in their own way on the 8x8 board:\n",
    "- **Pawns** can move one or, if it is the first move of the pawn, two squares straight forward. They can only beat other pieces that are diagonally directly infront of them (an exception is the so-called *en passant*)\n",
    "- **Bishops** can move on a diagonal line, where each player has a bishop which can move on the white squares and one which can move on the black squares. They can beat an enemy piece on their diagonal\n",
    "- **Knights** are the only type of piece that can \"jump\" over other pieces. The move pattern of a knight is an \"L\" shape as they can move two squares to one side and from there one square to either the left or the right side orthogonally. They do not influence nor get influenced by pieces on their \"route\", they can only beat pieces on the final square\n",
    "- **Rooks** can move on a straight line in each direction (not diagonally)\n",
    "- The **queen** has the most possible moves: any square on a straight line (like the rook), any square on a diagonal line (like the bishop) and and neighboring square. It is (after the king) the most valuable piece\n",
    "- The **king** is the most valuable piece of the game but can only move on neighboring squares. One can also perform *castling*, meaning that the king and one rook change sides. Lastly, the king can be put *check*, meaning an enemy piece could beat the king in the next move if the king does not move away (or gets protected in another form). If there is no way to protect the king, he is put *checkmate*. If this happens, the game is over and the side who put the other side checkmate wins\n",
    "\n",
    "The player of the white sides starts with the first move and the game ends with one of the following three results::\n",
    "1. White player wins (black king is checkmate or the player of the black side resigns)\n",
    "2. Black player wins (white king is checkmate or the player of the white side resigns)\n",
    "3. Draw (either both players agree on a draw, one player has no possible moves without being checkmate (*stalemate*), both players only have a king left, or after a specific number of (repeating) moves)\n",
    "\n",
    "## Task context\n",
    "The goal of this work is to implement an artifical intelligence (AI) which can play a chess game against a human player. The used algorithm is Minimax (Negamax) with Alpha-Beta-Pruning and caching (transposition tables). The chess game per se is realized through the python library `python-chess`. A lot of input for this work is taken from the [lecture notes](https://github.com/karlstroetmann/Artificial-Intelligence/blob/master/Lecture-Notes/artificial-intelligence.pdf) of Prof. Dr. Stroetmann.\n",
    "\n",
    "The basic idea of the chess AI is to analyze all possible moves, having the current board. Though, due to the nature of the chess game, the number of possible moves is too high to analyze them all together: each player has (at the beginning of the game) 16 pieces; taking the possible moves for each piece at the beginning of the game, we have 200 different possible moves at the very beginning of the game. The enemy can then respond with again 200 possible moves, giving $200*200 = 400$ possible boards after the first full move (note that one move is defined as both players finishing their turn). After the second full move, there are 8,902 possible states for the board, some of them being identical. After seven moves, the total number of possible board states is over 3 billion. Even if the identical states would be filtered out, e.g. through caching, the total number of states to be evaluated would be too high for any computer. So, to still have a reasonable analysis of the board to find the best move possible, an efficient algorithm is needed. The algorithm **Minimax** (Negamax) as well as the needed functions for the board evaluation are explained in the notebook `chess_core.ipynb`. "
   ]
  },
  {
   "cell_type": "markdown",
   "metadata": {},
   "source": [
    "# Structure\n",
    "\n",
    "The following notebooks exist and should be read in the shown order, except for `play_vs_ai` which does not contain important code. It can be used to try out the ai though.\n",
    "\n",
    "| Notebook | Explanation |\n",
    "| --- | --- |\n",
    "| [overview](./overview.ipynb)     | The current notebook with an introduction and a conclusion                                                |\n",
    "| [chess_core](./chess_core.ipynb) | Main algorithm, alpha-beta-pruning, and auxiliary functions                                               |\n",
    "| [unit_tests](./unit_tests.ipynb) | Tests, using chess problems (checkmate, trivial positions), for the algorithm and the evaluation function |\n",
    "| [benchmark](./benchmark.ipynb)   | Performance analysis using the notebook `unit_tests`                                                      |\n",
    "| [conclusion](./conclusion.ipynb) | The conclusion of the work                                                                                |\n",
    "| [play_vs_ai](./play_vs_ai.ipynb) | Notebook to play a chess game against the AI, depth can be set manually                                   |"
   ]
  }
 ],
 "metadata": {
  "kernelspec": {
   "display_name": "Python 3",
   "language": "python",
   "name": "python3"
  },
  "language_info": {
   "codemirror_mode": {
    "name": "ipython",
    "version": 3
   },
   "file_extension": ".py",
   "mimetype": "text/x-python",
   "name": "python",
   "nbconvert_exporter": "python",
   "pygments_lexer": "ipython3",
   "version": "3.9.1"
  }
 },
 "nbformat": 4,
 "nbformat_minor": 4
}
