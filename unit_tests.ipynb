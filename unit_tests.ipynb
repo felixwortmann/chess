{
 "cells": [
  {
   "cell_type": "code",
   "execution_count": 22,
   "metadata": {},
   "outputs": [],
   "source": [
    "import chess\n",
    "import time\n",
    "from IPython.display import display, Image, clear_output"
   ]
  },
  {
   "cell_type": "code",
   "execution_count": 23,
   "metadata": {},
   "outputs": [
    {
     "name": "stderr",
     "output_type": "stream",
     "text": [
      "UsageError: Line magic function `%` not found.\n"
     ]
    }
   ],
   "source": [
    "%run chess_core.ipynb"
   ]
  },
  {
   "cell_type": "code",
   "execution_count": null,
   "metadata": {
    "scrolled": false
   },
   "outputs": [],
   "source": [
    "# Define Styles\n",
    "from IPython.core.display import HTML\n",
    "\n",
    "with open('style.css', 'r') as file:\n",
    "    css = file.read()\n",
    "HTML(css)"
   ]
  },
  {
   "cell_type": "code",
   "execution_count": null,
   "metadata": {},
   "outputs": [],
   "source": [
    "start_time = time.time()"
   ]
  },
  {
   "cell_type": "code",
   "execution_count": null,
   "outputs": [],
   "source": [
    "\"\"\"Gets a board, prints it, performs a move with the given depth, prints the board and returns it and the move\"\"\"\n",
    "\n",
    "\n",
    "def perform_move(board, depth):\n",
    "    display(board)\n",
    "    val, move, _ = minimax_input(board, depth)\n",
    "    board.push(move)\n",
    "    display(board)\n",
    "    print(\"value:\", val)\n",
    "    return board, move"
   ],
   "metadata": {
    "collapsed": false,
    "pycharm": {
     "name": "#%%\n"
    }
   }
  },
  {
   "cell_type": "markdown",
   "metadata": {},
   "source": [
    "# Tests für Matt in einem Zug\n",
    "Eingabe des Boards in FEN (Forsyth-Edwards-Notation)"
   ]
  },
  {
   "cell_type": "markdown",
   "metadata": {},
   "source": [
    "## Tests für Weiß am Zug"
   ]
  },
  {
   "cell_type": "code",
   "execution_count": null,
   "metadata": {
    "scrolled": false
   },
   "outputs": [],
   "source": [
    "%%time\n",
    "board = chess.Board(\"4rkr1/1p1Rn1pp/p3p2B/4Qp2/8/8/PPq2PPP/3R2K1 w KQkq - 0 1\")\n",
    "board, _ = perform_move(board, 2)\n",
    "assert board.is_checkmate()"
   ]
  },
  {
   "cell_type": "code",
   "execution_count": null,
   "metadata": {},
   "outputs": [],
   "source": [
    "%%time\n",
    "board = chess.Board(\"k7/3N4/BK6/8/8/8/8/8 w KQkq - 0 1\")\n",
    "board, _ = perform_move(board, 3)\n",
    "assert board.is_checkmate()"
   ]
  },
  {
   "cell_type": "markdown",
   "metadata": {},
   "source": [
    "## Tests für Schwarz am Zug"
   ]
  },
  {
   "cell_type": "code",
   "execution_count": null,
   "metadata": {},
   "outputs": [],
   "source": [
    "%%time\n",
    "board = chess.Board(\"RK2QBNR/P3PPPP/b7/q7/8/4Pp2/p1p2p1p/rn1k3r b KQkq - 0 1\")\n",
    "board, _ = perform_move(board, 3)\n",
    "assert board.is_checkmate()"
   ]
  },
  {
   "cell_type": "markdown",
   "metadata": {},
   "source": [
    "# Tests für Matt in zwei Zügen"
   ]
  },
  {
   "cell_type": "markdown",
   "metadata": {},
   "source": [
    "## Tests für Schwarz am Zug"
   ]
  },
  {
   "cell_type": "code",
   "execution_count": null,
   "metadata": {
    "scrolled": false
   },
   "outputs": [],
   "source": [
    "%%time\n",
    "board = chess.Board(\"KR2Q2R/NPPn2BP/n5P1/3N1P2/q7/3p2p1/ppp1p2p/r1bk3r b KQkq - 0 1\")\n",
    "board,_ = perform_move(board,3)\n",
    "board,_ = perform_move(board,3)\n",
    "board,_ = perform_move(board,3)\n",
    "assert board.is_checkmate()"
   ]
  },
  {
   "cell_type": "markdown",
   "metadata": {},
   "source": [
    "## Tests für Weiß am Zug"
   ]
  },
  {
   "cell_type": "code",
   "execution_count": null,
   "metadata": {
    "scrolled": false
   },
   "outputs": [],
   "source": [
    "%%time\n",
    "board = chess.Board(\"1B6/3K3p/5p2/pp2pr2/N2k3q/1Q5p/2R2b2/5N2 w KQkq - 0 1\")\n",
    "display(board)\n",
    "board,_ = perform_move(board,3)\n",
    "board,_ = perform_move(board,3)\n",
    "board,_ = perform_move(board,3)\n",
    "assert board.is_checkmate()"
   ]
  },
  {
   "cell_type": "markdown",
   "metadata": {},
   "source": [
    "## Tests für sinnvolle Züge"
   ]
  },
  {
   "cell_type": "code",
   "execution_count": null,
   "metadata": {},
   "outputs": [],
   "source": [
    "%%time\n",
    "board = chess.Board(\"rnb1kbnr/pppppppp/8/4q3/5P2/8/PPPPP1PP/RNBQKBNR w KQkq - 0 1\")\n",
    "board,move = perform_move(board,2)\n",
    "assert str(move) == \"f4e5\""
   ]
  },
  {
   "cell_type": "code",
   "execution_count": null,
   "metadata": {},
   "outputs": [],
   "source": [
    "%%time\n",
    "board = chess.Board(\"rn2kbnr/pppppppp/8/4q3/8/8/PPPP1PPP/RNBQKB1R w KQkq - 0 1\")\n",
    "board,move = perform_move(board,2)\n",
    "assert str(move) == \"f1e2\""
   ]
  },
  {
   "cell_type": "code",
   "execution_count": null,
   "metadata": {},
   "outputs": [],
   "source": [
    "%%time\n",
    "board = chess.Board(\"rn1q1rk1/pp6/5p2/2bpP2b/2p2PbP/2p2NP1/2P2PR1/2BQKB1R w K - 0 1\")\n",
    "board,move = perform_move(board,2)\n",
    "assert str(move) == \"f1e2\""
   ]
  },
  {
   "cell_type": "markdown",
   "metadata": {},
   "source": [
    "## Tests for evaluation function"
   ]
  },
  {
   "cell_type": "markdown",
   "metadata": {},
   "source": [
    "### Pawn-Square Tables tests"
   ]
  },
  {
   "cell_type": "code",
   "execution_count": null,
   "metadata": {},
   "outputs": [],
   "source": [
    "board = chess.Board(\"4k3/ppp2ppp/8/3pp3/8/8/PPPPPPPP/4K3 w - - 0 1\")\n",
    "piece_type = chess.PAWN\n",
    "player_pieces = board.pieces(piece_type, board.turn)\n",
    "enemy_pieces = board.pieces(piece_type, not board.turn)\n",
    "val = 0\n",
    "val = piece_square_tables(PAWN_VALUES, player_pieces, enemy_pieces, board)\n",
    "assert val == -80"
   ]
  },
  {
   "cell_type": "code",
   "execution_count": null,
   "metadata": {},
   "outputs": [],
   "source": [
    "board = chess.Board(\"4k3/ppp2ppp/8/3pp3/8/8/PPPPPPPP/4K3 b - - 0 1\")\n",
    "piece_type = chess.PAWN\n",
    "player_pieces = board.pieces(piece_type, board.turn)\n",
    "enemy_pieces = board.pieces(piece_type, not board.turn)\n",
    "val = 0\n",
    "val = piece_square_tables(PAWN_VALUES, player_pieces, enemy_pieces, board)\n",
    "assert val == 80"
   ]
  },
  {
   "cell_type": "markdown",
   "metadata": {},
   "source": [
    "### Knight-Square Tables tests"
   ]
  },
  {
   "cell_type": "code",
   "execution_count": null,
   "metadata": {},
   "outputs": [],
   "source": [
    "board = chess.Board(\"n3k2N/8/8/8/8/8/6R1/N3K2N w - - 0 1\")\n",
    "piece_type = chess.KNIGHT\n",
    "player_pieces = board.pieces(piece_type, board.turn)\n",
    "enemy_pieces = board.pieces(piece_type, not board.turn)\n",
    "val = 0\n",
    "val = piece_square_tables(KNIGHT_VALUES, player_pieces, enemy_pieces, board)\n",
    "assert val == -100"
   ]
  },
  {
   "cell_type": "code",
   "execution_count": null,
   "metadata": {},
   "outputs": [],
   "source": [
    "board = chess.Board(\"n3k2N/8/8/8/8/8/6R1/N3K2N b - - 0 1\")\n",
    "piece_type = chess.KNIGHT\n",
    "player_pieces = board.pieces(piece_type, board.turn)\n",
    "enemy_pieces = board.pieces(piece_type, not board.turn)\n",
    "val = 0\n",
    "val = piece_square_tables(KNIGHT_VALUES, player_pieces, enemy_pieces, board)\n",
    "assert val == 100"
   ]
  },
  {
   "cell_type": "markdown",
   "metadata": {},
   "source": [
    "### Bishop-Square Tables tests"
   ]
  },
  {
   "cell_type": "code",
   "execution_count": null,
   "metadata": {},
   "outputs": [],
   "source": [
    "board = chess.Board(\"b3k2B/8/8/8/8/8/8/B3K2B w - - 0 1\")\n",
    "piece_type = chess.BISHOP\n",
    "player_pieces = board.pieces(piece_type, board.turn)\n",
    "enemy_pieces = board.pieces(piece_type, not board.turn)\n",
    "val = 0\n",
    "val = piece_square_tables(BISHOP_VALUES, player_pieces, enemy_pieces, board)\n",
    "assert val == -40"
   ]
  },
  {
   "cell_type": "code",
   "execution_count": null,
   "metadata": {},
   "outputs": [],
   "source": [
    "board = chess.Board(\"b3k2B/8/8/8/8/8/8/B3K2B b - - 0 1\")\n",
    "piece_type = chess.BISHOP\n",
    "player_pieces = board.pieces(piece_type, board.turn)\n",
    "enemy_pieces = board.pieces(piece_type, not board.turn)\n",
    "val = 0\n",
    "val = piece_square_tables(BISHOP_VALUES, player_pieces, enemy_pieces, board)\n",
    "assert val == 40"
   ]
  },
  {
   "cell_type": "markdown",
   "metadata": {},
   "source": [
    "### Rook-Square Tables tests"
   ]
  },
  {
   "cell_type": "code",
   "execution_count": null,
   "metadata": {},
   "outputs": [],
   "source": [
    "board = chess.Board(\"4k3/8/r6R/8/8/8/R6R/4K3 w - - 0 1\")\n",
    "piece_type = chess.ROOK\n",
    "player_pieces = board.pieces(piece_type, board.turn)\n",
    "enemy_pieces = board.pieces(piece_type, not board.turn)\n",
    "val = 0\n",
    "val = piece_square_tables(ROOK_VALUES, player_pieces, enemy_pieces, board)\n",
    "assert val == -10"
   ]
  },
  {
   "cell_type": "code",
   "execution_count": null,
   "metadata": {},
   "outputs": [],
   "source": [
    "board = chess.Board(\"4k3/8/r6R/8/8/8/R6R/4K3 b - - 0 1\")\n",
    "piece_type = chess.ROOK\n",
    "player_pieces = board.pieces(piece_type, board.turn)\n",
    "enemy_pieces = board.pieces(piece_type, not board.turn)\n",
    "val = 0\n",
    "val = piece_square_tables(ROOK_VALUES, player_pieces, enemy_pieces, board)\n",
    "assert val == 10"
   ]
  },
  {
   "cell_type": "markdown",
   "metadata": {},
   "source": [
    "### Queen-Square Tables tests"
   ]
  },
  {
   "cell_type": "code",
   "execution_count": null,
   "metadata": {},
   "outputs": [],
   "source": [
    "board = chess.Board(\"q3k2Q/8/8/8/8/8/8/Q3K2Q w - - 0 1\")\n",
    "piece_type = chess.QUEEN\n",
    "player_pieces = board.pieces(piece_type, board.turn)\n",
    "enemy_pieces = board.pieces(piece_type, not board.turn)\n",
    "val = 0\n",
    "val = piece_square_tables(QUEEN_VALUES, player_pieces, enemy_pieces, board)\n",
    "assert val == -40"
   ]
  },
  {
   "cell_type": "code",
   "execution_count": null,
   "metadata": {},
   "outputs": [],
   "source": [
    "board = chess.Board(\"q3k2Q/8/8/8/8/8/8/Q3K2Q b - - 0 1\")\n",
    "piece_type = chess.QUEEN\n",
    "player_pieces = board.pieces(piece_type, board.turn)\n",
    "enemy_pieces = board.pieces(piece_type, not board.turn)\n",
    "val = 0\n",
    "val = piece_square_tables(QUEEN_VALUES, player_pieces, enemy_pieces, board)\n",
    "assert val == 40"
   ]
  },
  {
   "cell_type": "markdown",
   "metadata": {},
   "source": [
    "### King-Square Tables tests"
   ]
  },
  {
   "cell_type": "markdown",
   "metadata": {},
   "source": [
    "#### Middle Game"
   ]
  },
  {
   "cell_type": "code",
   "execution_count": null,
   "metadata": {},
   "outputs": [],
   "source": [
    "board = chess.Board(\"qrbq3k/ppppp1pp/8/3K4/8/8/8/Q6Q w - - 0 1\")\n",
    "piece_type = chess.KING\n",
    "player_pieces = board.pieces(piece_type, board.turn)\n",
    "enemy_pieces = board.pieces(piece_type, not board.turn)\n",
    "val = 0\n",
    "val = piece_square_tables(KING_VALUES_MIDDLEGAME, player_pieces, enemy_pieces, board)\n",
    "assert val == -70\n",
    "assert not is_endgame(board)"
   ]
  },
  {
   "cell_type": "code",
   "execution_count": null,
   "metadata": {},
   "outputs": [],
   "source": [
    "board = chess.Board(\"qrbq3k/ppppp1pp/8/3K4/8/8/8/Q6Q b - - 0 1\")\n",
    "piece_type = chess.KING\n",
    "player_pieces = board.pieces(piece_type, board.turn)\n",
    "enemy_pieces = board.pieces(piece_type, not board.turn)\n",
    "val = 0\n",
    "val = piece_square_tables(KING_VALUES_MIDDLEGAME, player_pieces, enemy_pieces, board)\n",
    "assert val == 70\n",
    "assert not is_endgame(board)"
   ]
  },
  {
   "cell_type": "markdown",
   "metadata": {},
   "source": [
    "#### Endgame"
   ]
  },
  {
   "cell_type": "code",
   "execution_count": null,
   "metadata": {},
   "outputs": [],
   "source": [
    "board = chess.Board(\"8/8/8/3K4/8/8/8/7k w - - 0 1\")\n",
    "piece_type = chess.KING\n",
    "player_pieces = board.pieces(piece_type, board.turn)\n",
    "enemy_pieces = board.pieces(piece_type, not board.turn)\n",
    "val = 0\n",
    "val = piece_square_tables(KING_VALUES_ENDGAMAE, player_pieces, enemy_pieces, board)\n",
    "assert val == 90\n",
    "assert is_endgame(board)"
   ]
  },
  {
   "cell_type": "code",
   "execution_count": null,
   "metadata": {},
   "outputs": [],
   "source": [
    "board = chess.Board(\"8/8/8/3K4/8/8/8/7k b - - 0 1\")\n",
    "piece_type = chess.KING\n",
    "player_pieces = board.pieces(piece_type, board.turn)\n",
    "enemy_pieces = board.pieces(piece_type, not board.turn)\n",
    "val = 0\n",
    "val = piece_square_tables(KING_VALUES_ENDGAMAE, player_pieces, enemy_pieces, board)\n",
    "assert val == -90\n",
    "assert is_endgame(board)"
   ]
  },
  {
   "cell_type": "code",
   "execution_count": null,
   "metadata": {
    "pycharm": {
     "name": "#%%\n"
    },
    "scrolled": false
   },
   "outputs": [],
   "source": [
    "print(f\"Finished in {time.time() - start_time} seconds.\")"
   ]
  }
 ],
 "metadata": {
  "kernelspec": {
   "display_name": "Python 3",
   "language": "python",
   "name": "python3"
  },
  "language_info": {
   "codemirror_mode": {
    "name": "ipython",
    "version": 3
   },
   "file_extension": ".py",
   "mimetype": "text/x-python",
   "name": "python",
   "nbconvert_exporter": "python",
   "pygments_lexer": "ipython3",
   "version": "3.8.5"
  }
 },
 "nbformat": 4,
 "nbformat_minor": 4
}