{
 "cells": [
  {
   "cell_type": "code",
   "execution_count": 1,
   "metadata": {},
   "outputs": [],
   "source": [
    "import chess\n",
    "import math\n",
    "import copy"
   ]
  },
  {
   "cell_type": "markdown",
   "metadata": {},
   "source": [
    "## Evaluation of the given state\n",
    "1. evaluate piece values\n",
    "2. evaluate pawn position state\n",
    "- 2.1. evaluate blocked pawns\n",
    "- 2.2 evaluate doubled pawns\n",
    "- 2.3. evaluate isolated pawns\n",
    "3. evaluate mobility -open-\n",
    "4. evaluate stalemate and 75 moves rule -open-"
   ]
  },
  {
   "cell_type": "code",
   "execution_count": 12,
   "metadata": {},
   "outputs": [],
   "source": [
    "def static_eval(chess_board):\n",
    "    chess_board = copy.deepcopy(chess_board)\n",
    "    \n",
    "    if chess_board.result() == \"1-0\":\n",
    "        return math.inf\n",
    "    elif chess_board.result() == \"0-1\":\n",
    "        return -math.inf\n",
    "    elif chess_board.result() == \"1/2-1/2\" or chess_board.is_stalemate():\n",
    "        return 0\n",
    "    \n",
    "    value = 0\n",
    "    \n",
    "    \n",
    "    # 1. evaluate piece values -------------------------------------------\n",
    "    # Types:\n",
    "    \"\"\"{chess.PAWN, chess.KNIGHT, chess.BISHOP,\n",
    "             chess.ROOK, chess.QUEEN, chess.KING}\"\"\"\n",
    "    piece_values = [1, \n",
    "                    3, \n",
    "                    3, \n",
    "                    5,\n",
    "                    9, \n",
    "                    200]\n",
    "    for i, piece_value in enumerate(piece_values):\n",
    "        value += len(chess_board.pieces(i+1, chess.WHITE))*piece_value\n",
    "        value -= len(chess_board.pieces(i+1, chess.BLACK))*piece_value\n",
    "    \n",
    "    \n",
    "    # 2. evaluate pawn position state ------------------------------------\n",
    "    blocked_pawns_white, doubled_pawns_white, isolated_pawns_white = analyze_pawns(chess_board,chess.WHITE)\n",
    "    blocked_pawns_black, doubled_pawns_black, isolated_pawns_black = analyze_pawns(chess_board,chess.BLACK)\n",
    "    \n",
    "    # 2.1 Blocked Pawns\n",
    "    value -= 0.5 * (blocked_pawns_white - blocked_pawns_black)\n",
    "    \n",
    "    # 2.2 Doubled Pawns\n",
    "    value -= 0.5 * (doubled_pawns_white - doubled_pawns_black)\n",
    "    \n",
    "    # 2.3 Isolated Pawns\n",
    "    value -= 0.5 * (isolated_pawns_white - isolated_pawns_black)\n",
    "    \n",
    "    return value"
   ]
  },
  {
   "cell_type": "markdown",
   "metadata": {},
   "source": [
    "## Calculate how many doubled pawns exist for a given file_dict"
   ]
  },
  {
   "cell_type": "code",
   "execution_count": 3,
   "metadata": {},
   "outputs": [],
   "source": [
    "def count_doubled_pawns(file_dict):\n",
    "    return len([file_count for file_count in file_dict if file_dict[file_count]>1])"
   ]
  },
  {
   "cell_type": "markdown",
   "metadata": {},
   "source": [
    "## Calculate isolated pawns"
   ]
  },
  {
   "cell_type": "code",
   "execution_count": 4,
   "metadata": {},
   "outputs": [],
   "source": [
    "def has_adjacent_pawn(file_dict,file_count):\n",
    "    if file_count == 1:\n",
    "        return file_dict[2]\n",
    "    elif file_count == 8:\n",
    "        return file_dict[7]\n",
    "    else:\n",
    "        return file_dict[file_count+1] or file_dict[file_count-1]"
   ]
  },
  {
   "cell_type": "code",
   "execution_count": 5,
   "metadata": {},
   "outputs": [],
   "source": [
    "def count_isolated_pawns(file_dict):\n",
    "    return len([file_count for file_count in file_dict if not has_adjacent_pawn(file_dict,file_count)])"
   ]
  },
  {
   "cell_type": "markdown",
   "metadata": {},
   "source": [
    "## Analyze Pawns for a given color:\n",
    "- Returns: tuple:\n",
    "    - blocked_pawns \n",
    "    - doubled_pawns\n",
    "    - isolated_pawns\n",
    "    \n",
    "Steps:\n",
    "1. Build dict: {file_number:pawn_count} --> {1:2, 2:0, 3:1} while counting blocked pawns\n",
    "2. calculate doubled pawns\n",
    "3. calculate isolated pawns\n",
    "4. return (blocked_pawns, doubled_pawns, isolated_pawns)"
   ]
  },
  {
   "cell_type": "code",
   "execution_count": 6,
   "metadata": {},
   "outputs": [],
   "source": [
    "def analyze_pawns(chess_board,color):\n",
    "    file_dict = {}\n",
    "    legal_moves = set(chess_board.legal_moves)\n",
    "    blocked_pawns = 0\n",
    "    \n",
    "    for file_count, file in enumerate(chess.FILE_NAMES,start=1):\n",
    "        file_dict[file_count] = 0\n",
    "        for rank in chess.RANK_NAMES:\n",
    "            square = chess.parse_square(file + rank)\n",
    "            if chess_board.piece_type_at(square) == chess.PAWN and board.color_at(square) == color:\n",
    "                file_dict[file_count] += 1\n",
    "                \n",
    "                pawn_blocked = True\n",
    "                for move in legal_moves:\n",
    "                    if move.from_square == square:\n",
    "                        pawn_blocked = False\n",
    "                        legal_moves.remove(move)\n",
    "                        break\n",
    "                if pawn_blocked:\n",
    "                    blocked_pawns+=1\n",
    "    \n",
    "    \n",
    "    return (blocked_pawns,count_doubled_pawns(file_dict),count_isolated_pawns(file_dict))"
   ]
  },
  {
   "cell_type": "markdown",
   "metadata": {},
   "source": [
    "## Main minimax function"
   ]
  },
  {
   "cell_type": "code",
   "execution_count": 10,
   "metadata": {},
   "outputs": [],
   "source": [
    "def minimax(chess_board, depth, maximizing_player, moves):\n",
    "    chess_board = copy.deepcopy(chess_board)\n",
    "    if depth == 0 or (not chess_board.legal_moves):\n",
    "        return (static_eval(chess_board), moves)\n",
    "\n",
    "    if maximizing_player:\n",
    "        max_val = -math.inf\n",
    "        max_move = None\n",
    "        for move in chess_board.legal_moves:\n",
    "            chess_board.push(move)\n",
    "            value, _ = minimax(chess_board, depth - 1, False, moves + [move])\n",
    "            chess_board.pop()\n",
    "            max_val = max(max_val, value)\n",
    "            if max_val == value:\n",
    "                max_move = move\n",
    "        assert chess_board.legal_moves\n",
    "        assert not max_move == None\n",
    "        return max_val, moves + [max_move]\n",
    "    else:\n",
    "        min_val = +math.inf\n",
    "        min_move = None\n",
    "        for move in chess_board.legal_moves:\n",
    "            chess_board.push(move)\n",
    "            value, _ = minimax(chess_board, depth - 1, True, moves + [move])\n",
    "\n",
    "            chess_board.pop()\n",
    "            min_val = min(min_val, value)\n",
    "            if min_val == value:\n",
    "                min_move = move\n",
    "        assert chess_board.legal_moves\n",
    "        assert not min_move == None\n",
    "        return min_val, moves + [min_move]"
   ]
  },
  {
   "cell_type": "code",
   "execution_count": 8,
   "metadata": {},
   "outputs": [],
   "source": [
    "def minimax_for_color(board, color, depth):\n",
    "    return minimax(copy.deepcopy(board), depth, color, [])"
   ]
  }
 ],
 "metadata": {
  "kernelspec": {
   "display_name": "Python 3",
   "language": "python",
   "name": "python3"
  },
  "language_info": {
   "codemirror_mode": {
    "name": "ipython",
    "version": 3
   },
   "file_extension": ".py",
   "mimetype": "text/x-python",
   "name": "python",
   "nbconvert_exporter": "python",
   "pygments_lexer": "ipython3",
   "version": "3.8.5"
  }
 },
 "nbformat": 4,
 "nbformat_minor": 4
}
