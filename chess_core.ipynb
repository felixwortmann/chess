{
 "cells": [
  {
   "cell_type": "code",
   "execution_count": 4,
   "metadata": {},
   "outputs": [],
   "source": [
    "import chess\n",
    "import math\n",
    "import copy\n",
    "\n",
    "\n",
    "def static_eval(chess_board):\n",
    "    # Types:\n",
    "    \"\"\"{chess.PAWN, chess.KNIGHT, chess.BISHOP,\n",
    "             chess.ROOK, chess.QUEEN, chess.KING}\"\"\"\n",
    "    piece_values = [1, 3, 3, 5, 9, 100]\n",
    "    value = 0\n",
    "    for i, piece_value in enumerate(piece_values):\n",
    "        value += len(chess_board.pieces(i+1, True))*piece_value\n",
    "        value -= len(chess_board.pieces(i+1, False))*piece_value\n",
    "    return value\n",
    "\n",
    "\n",
    "def minimax(chess_board, depth, maximizing_player, moves):\n",
    "    chess_board = copy.deepcopy(chess_board)\n",
    "    if chess_board.result() == \"1-0\":\n",
    "        return ((math.inf, moves) if maximizing_player else (-math.inf, moves))\n",
    "    elif chess_board.result() == \"0-1\":\n",
    "        return ((math.inf), moves if not maximizing_player else (-math.inf, moves))\n",
    "    elif chess_board.result() == \"1/2-1/2\" or chess_board.is_stalemate():\n",
    "        return 0, moves\n",
    "\n",
    "    if depth == 0:\n",
    "        return (static_eval(chess_board), moves)\n",
    "\n",
    "    if maximizing_player:\n",
    "        max_val = -math.inf\n",
    "        max_move = None\n",
    "        for move in chess_board.legal_moves:\n",
    "            chess_board.push(move)\n",
    "            value, _ = minimax(chess_board, depth - 1, False, moves + [move])\n",
    "            chess_board.pop()\n",
    "            max_val = max(max_val, value)\n",
    "            if max_val == value:\n",
    "                max_move = move\n",
    "        assert chess_board.legal_moves\n",
    "        assert not max_move == None\n",
    "        return max_val, moves + [max_move]\n",
    "    else:\n",
    "        min_val = +math.inf\n",
    "        min_move = None\n",
    "        for move in chess_board.legal_moves:\n",
    "            chess_board.push(move)\n",
    "            value, _ = minimax(chess_board, depth - 1, True, moves + [move])\n",
    "\n",
    "            chess_board.pop()\n",
    "            min_val = min(min_val, value)\n",
    "            if min_val == value:\n",
    "                min_move = move\n",
    "        assert chess_board.legal_moves\n",
    "        assert not min_move == None\n",
    "        return min_val, moves + [min_move]\n",
    "\n",
    "\n",
    "def minimax_for_color(board, color, depth):\n",
    "    return minimax(copy.deepcopy(board), depth, color, [])\n",
    "\n"
   ]
  },
  {
   "cell_type": "code",
   "execution_count": null,
   "metadata": {},
   "outputs": [],
   "source": []
  },
  {
   "cell_type": "code",
   "execution_count": null,
   "metadata": {},
   "outputs": [],
   "source": []
  }
 ],
 "metadata": {
  "kernelspec": {
   "display_name": "Python 3",
   "language": "python",
   "name": "python3"
  },
  "language_info": {
   "codemirror_mode": {
    "name": "ipython",
    "version": 3
   },
   "file_extension": ".py",
   "mimetype": "text/x-python",
   "name": "python",
   "nbconvert_exporter": "python",
   "pygments_lexer": "ipython3",
   "version": "3.8.5"
  }
 },
 "nbformat": 4,
 "nbformat_minor": 4
}
