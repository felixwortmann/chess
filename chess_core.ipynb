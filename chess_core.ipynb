{
 "cells": [
  {
   "cell_type": "code",
   "execution_count": 5,
   "metadata": {},
   "outputs": [],
   "source": [
    "import chess\n",
    "import chess.polyglot\n",
    "import math\n",
    "import random"
   ]
  },
  {
   "cell_type": "code",
   "execution_count": 6,
   "metadata": {},
   "outputs": [],
   "source": [
    "# Define Styles\n",
    "#from IPython.core.display import HTML\n",
    "#with open('style.css','r') as file:\n",
    "#    css = file.read()\n",
    "#HTML(css)\n",
    "POLYGLOT_PATH = \"data/polyglot/performance.bin\""
   ]
  },
  {
   "cell_type": "markdown",
   "metadata": {},
   "source": [
    "# Evaluation of the given state\n",
    "https://www.chessprogramming.org/Simplified_Evaluation_Function"
   ]
  },
  {
   "cell_type": "markdown",
   "metadata": {},
   "source": [
    "## Hash function (zobrist hash)"
   ]
  },
  {
   "cell_type": "code",
   "execution_count": 7,
   "metadata": {},
   "outputs": [],
   "source": [
    "# Maximum number of moves is 5898 (due to the 50 Moves Rule - that makes this number big enough)\n",
    "WIN_VALUE = 2147483647\n",
    "CACHED_VALUES = None\n",
    "CACHED_VALUES_ACCESS_COUNT = 0\n",
    "OVERALL_ACCESS_COUNT = 0\n",
    "TABLE = [[random.randint(0, 2**64 - 1) for piece_value in range(1,13)] for square in range(1,65)]\n",
    "\n",
    "def piece_key(piece):\n",
    "    return (piece.piece_type + (6 if piece.color else 0)) - 1\n",
    "\n",
    "def zobrist_hash(board):\n",
    "    return chess.polyglot.zobrist_hash(board)"
   ]
  },
  {
   "cell_type": "markdown",
   "metadata": {},
   "source": [
    "## Evaluation function"
   ]
  },
  {
   "cell_type": "markdown",
   "metadata": {},
   "source": [
    "### Piece-Square Tables\n",
    "Source: https://www.chessprogramming.org/Simplified_Evaluation_Function#Piece-Square_Tables"
   ]
  },
  {
   "cell_type": "code",
   "execution_count": 1,
   "metadata": {},
   "outputs": [],
   "source": [
    "black_pawn_values = [0,  0,  0,  0,  0,  0,  0,  0,\n",
    "                     50, 50, 50, 50, 50, 50, 50, 50,\n",
    "                     10, 10, 20, 30, 30, 20, 10, 10,\n",
    "                     5,  5, 10, 25, 25, 10,  5,  5,\n",
    "                     0,  0,  0, 20, 20,  0,  0,  0,\n",
    "                     5, -5, -10,  0,  0, -10, -5,  5,\n",
    "                     5, 10, 10, -20, -20, 10, 10,  5,\n",
    "                     0,  0,  0,  0,  0,  0,  0,  0]\n",
    "\n",
    "black_knight_values = [-50, -40, -30, -30, -30, -30, -40, -50,\n",
    "                       -40, -20,  0,  0,  0,  0, -20, -40,\n",
    "                       -30,  0, 10, 15, 15, 10,  0, -30,\n",
    "                       -30,  5, 15, 20, 20, 15,  5, -30,\n",
    "                       -30,  0, 15, 20, 20, 15,  0, -30,\n",
    "                       -30,  5, 10, 15, 15, 10,  5, -30,\n",
    "                       -40, -20,  0,  5,  5,  0, -20, -40,\n",
    "                       -50, -40, -30, -30, -30, -30, -40, -50]\n",
    "\n",
    "black_bishop_values = [-20, -10, -10, -10, -10, -10, -10, -20,\n",
    "                       -10,  0,  0,  0,  0,  0,  0, -10,\n",
    "                       -10,  0,  5, 10, 10,  5,  0, -10,\n",
    "                       -10,  5,  5, 10, 10,  5,  5, -10,\n",
    "                       -10,  0, 10, 10, 10, 10,  0, -10,\n",
    "                       -10, 10, 10, 10, 10, 10, 10, -10,\n",
    "                       -10,  5,  0,  0,  0,  0,  5, -10,\n",
    "                       -20, -10, -10, -10, -10, -10, -10, -20]\n",
    "\n",
    "black_rook_values = [0,  0,  0,  0,  0,  0,  0,  0,\n",
    "                     5, 10, 10, 10, 10, 10, 10,  5,\n",
    "                     -5,  0,  0,  0,  0,  0,  0, -5,\n",
    "                     -5,  0,  0,  0,  0,  0,  0, -5,\n",
    "                     -5,  0,  0,  0,  0,  0,  0, -5,\n",
    "                     -5,  0,  0,  0,  0,  0,  0, -5,\n",
    "                     -5,  0,  0,  0,  0,  0,  0, -5,\n",
    "                     0,  0,  0,  5,  5,  0,  0,  0]\n",
    "\n",
    "black_queen_values = [-20, -10, -10, -5, -5, -10, -10, -20,\n",
    "                      -10,  0,  0,  0,  0,  0,  0, -10,\n",
    "                      -10,  0,  5,  5,  5,  5,  0, -10,\n",
    "                      -5,  0,  5,  5,  5,  5,  0, -5,\n",
    "                      0,  0,  5,  5,  5,  5,  0, -5,\n",
    "                      -10,  5,  5,  5,  5,  5,  0, -10,\n",
    "                      -10,  0,  5,  0,  0,  0,  0, -10,\n",
    "                      -20, -10, -10, -5, -5, -10, -10, -20]\n",
    "\n",
    "black_king_values_middlegame = [-30, -40, -40, -50, -50, -40, -40, -30,\n",
    "                                -30, -40, -40, -50, -50, -40, -40, -30,\n",
    "                                -30, -40, -40, -50, -50, -40, -40, -30,\n",
    "                                -30, -40, -40, -50, -50, -40, -40, -30,\n",
    "                                -20, -30, -30, -40, -40, -30, -30, -20,\n",
    "                                -10, -20, -20, -20, -20, -20, -20, -10,\n",
    "                                20, 20,  0,  0,  0,  0, 20, 20,\n",
    "                                20, 30, 10,  0,  0, 10, 30, 20]\n",
    "\n",
    "black_king_values_endgame = [-50, -40, -30, -20, -20, -30, -40, -50,\n",
    "                             -30, -20, -10,  0,  0, -10, -20, -30,\n",
    "                             -30, -10, 20, 30, 30, 20, -10, -30,\n",
    "                             -30, -10, 30, 40, 40, 30, -10, -30,\n",
    "                             -30, -10, 30, 40, 40, 30, -10, -30,\n",
    "                             -30, -10, 20, 30, 30, 20, -10, -30,\n",
    "                             -30, -30,  0,  0,  0,  0, -30, -30,\n",
    "                             -50, -30, -30, -30, -30, -30, -30, -50]\n"
   ]
  },
  {
   "cell_type": "code",
   "execution_count": 7,
   "metadata": {},
   "outputs": [],
   "source": [
    "def raw_eval(board,endgame):\n",
    "    # Check if game is over\n",
    "    if (board.result() == \"1-0\" and board.turn) or (board.result() == \"0-1\" and not board.turn):\n",
    "        result = WIN_VALUE - board.fullmove_number\n",
    "        return result\n",
    "    elif (board.result() == \"0-1\" and board.turn) or (board.result() == \"1-0\" and not board.turn):\n",
    "        result = -WIN_VALUE + board.fullmove_number\n",
    "        return result\n",
    "    elif board.result() == \"1/2-1/2\" or board.is_stalemate() or board.is_insufficient_material() or board.is_seventyfive_moves() or board.is_fivefold_repetition():\n",
    "        result = 0\n",
    "        return result\n",
    "    \n",
    "    value = 0\n",
    "    \n",
    "    # Piece values, numbers represent centipawns; Pawn, Knight, Bishop, Rook, Queen\n",
    "    # Source: https://www.chessprogramming.org/Simplified_Evaluation_Function#Piece_Values\n",
    "    piece_values = [100, 320, 330, 500, 900]\n",
    "    \n",
    "    for piece_type, piece_value in enumerate(piece_values):\n",
    "        piece_type += 1\n",
    "        \n",
    "        player_pieces = board.pieces(piece_type, board.turn)\n",
    "        enemy_pieces = board.pieces(piece_type, not board.turn)\n",
    "        \n",
    "        value += len(player_pieces)*piece_value\n",
    "        value -= len(enemy_pieces)*piece_value\n",
    "        \n",
    "        if piece_type == chess.PAWN:\n",
    "            value = piece_square_tables(black_pawn_values, player_pieces, enemy_pieces, board, value)\n",
    "            \n",
    "        if piece_type == chess.KNIGHT:\n",
    "            value = piece_square_tables(black_knight_values, player_pieces, enemy_pieces, board, value)\n",
    "            \n",
    "        if piece_type == chess.BISHOP:\n",
    "            value = piece_square_tables(black_bishop_values, player_pieces, enemy_pieces, board, value)\n",
    "            \n",
    "        if piece_type == chess.ROOK:\n",
    "            value = piece_square_tables(black_rook_values, player_pieces, enemy_pieces, board, value)\n",
    "            \n",
    "        if piece_type == chess.QUEEN:\n",
    "            value = piece_square_tables(black_queen_values, player_pieces, enemy_pieces, board, value)\n",
    "            \n",
    "        if piece_type == chess.KING:\n",
    "            if endgame:\n",
    "                value = piece_square_tables(black_king_values_endgame, player_pieces, enemy_pieces, board, value)\n",
    "            else:\n",
    "                value = piece_square_tables(black_king_values_middlegame, player_pieces, enemy_pieces, board, value)\n",
    "    return value\n",
    "\n",
    "def color_endgame(color):\n",
    "    return (len(board.pieces(chess.BISHOP, color))\n",
    "            + len(board.pieces(chess.KNIGHT, color))\n",
    "            + len(board.pieces(chess.QUEEN, color))) < 2\n",
    "\n",
    "def is_endgame(board):\n",
    "    white_endgame = color_endgame(chess.WHITE)\n",
    "    black_endgame = color_endgame(chess.BLACK)\n",
    "    return white_endgame and black_endgame\n",
    "\n",
    "def static_eval(board):\n",
    "    global CACHED_VALUES\n",
    "    global CACHED_VALUES_ACCESS_COUNT\n",
    "    global OVERALL_ACCESS_COUNT\n",
    "    OVERALL_ACCESS_COUNT += 1\n",
    "    cache_key = zobrist_hash(board)\n",
    "    if cache_key in CACHED_VALUES:\n",
    "        CACHED_VALUES_ACCESS_COUNT += 1\n",
    "        return CACHED_VALUES[cache_key]\n",
    "    value = raw_eval(board,is_endgame(board))\n",
    "    CACHED_VALUES[cache_key] = value\n",
    "    return value"
   ]
  },
  {
   "cell_type": "markdown",
   "metadata": {},
   "source": [
    "### Function for the Piece-Square Tables"
   ]
  },
  {
   "cell_type": "code",
   "execution_count": 6,
   "metadata": {},
   "outputs": [],
   "source": [
    "def piece_square_tables(black_piece_values, player_pieces, enemy_pieces, board, value):\n",
    "    white_piece_values = black_piece_values[::-1]\n",
    "    \n",
    "    for piece in player_pieces:\n",
    "        if board.turn:\n",
    "            value += white_piece_values[piece]\n",
    "        else:\n",
    "            value += black_piece_values[piece]\n",
    "            \n",
    "    for piece in enemy_pieces:\n",
    "        if board.turn:\n",
    "            value -= black_piece_values[piece]\n",
    "        else:\n",
    "            value -= white_piece_values[piece]\n",
    "            \n",
    "    return value"
   ]
  },
  {
   "cell_type": "markdown",
   "metadata": {},
   "source": [
    "## Main minimax function"
   ]
  },
  {
   "cell_type": "code",
   "execution_count": 7,
   "metadata": {},
   "outputs": [],
   "source": [
    "ANALYZING_DEPTH = None\n",
    "def minimax(board, depth, alpha, beta):\n",
    "    global BEST_MOVE\n",
    "    if (depth == 0 or not board.legal_moves):\n",
    "        return static_eval(board)\n",
    "    max_value = alpha\n",
    "    for move in board.legal_moves:\n",
    "        board.push(move)\n",
    "        value = -minimax(board, depth - 1, -beta, -max_value)\n",
    "        board.pop()\n",
    "        if (value > max_value):\n",
    "            max_value = value\n",
    "            if (depth == ANALYZING_DEPTH):\n",
    "                BEST_MOVE = move;\n",
    "            if (max_value >= beta):\n",
    "                break\n",
    "    return max_value"
   ]
  },
  {
   "cell_type": "code",
   "execution_count": 8,
   "metadata": {},
   "outputs": [],
   "source": [
    "BEST_MOVE = None\n",
    "def minimax_input(board, depth):\n",
    "    global CACHED_VALUES\n",
    "    global ANALYZING_DEPTH\n",
    "    ANALYZING_DEPTH = depth\n",
    "    CACHED_VALUES = dict()\n",
    "    value, polyglot_move = get_polyglot_move(board)\n",
    "    if polyglot_move != \"\":\n",
    "        return value, polyglot_move\n",
    "    return minimax(board, depth, -math.inf, math.inf), BEST_MOVE"
   ]
  },
  {
   "cell_type": "code",
   "execution_count": 1,
   "metadata": {},
   "outputs": [],
   "source": [
    "def get_polyglot_move(board):\n",
    "    with chess.polyglot.open_reader(POLYGLOT_PATH) as reader:\n",
    "        maximum = 0\n",
    "        move = \"\"\n",
    "        for entry in reader.find_all(board):\n",
    "            print(entry.move, entry.weight, entry.learn)\n",
    "            if entry.learn > maximum:\n",
    "                maximum = entry.learn\n",
    "                move = entry.move\n",
    "        return maximum, move"
   ]
  },
  {
   "cell_type": "code",
   "execution_count": null,
   "metadata": {},
   "outputs": [],
   "source": []
  }
 ],
 "metadata": {
  "kernelspec": {
   "display_name": "Python 3",
   "language": "python",
   "name": "python3"
  },
  "language_info": {
   "codemirror_mode": {
    "name": "ipython",
    "version": 3
   },
   "file_extension": ".py",
   "mimetype": "text/x-python",
   "name": "python",
   "nbconvert_exporter": "python",
   "pygments_lexer": "ipython3",
   "version": "3.8.5"
  }
 },
 "nbformat": 4,
 "nbformat_minor": 4
}
