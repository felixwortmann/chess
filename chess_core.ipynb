{
 "cells": [
  {
   "cell_type": "code",
   "execution_count": 1,
   "metadata": {},
   "outputs": [],
   "source": [
    "import chess\n",
    "import math"
   ]
  },
  {
   "cell_type": "markdown",
   "metadata": {},
   "source": [
    "## Evaluation of the given state\n",
    "1. evaluate piece values\n",
    "2. evaluate pawn position state\n",
    "- 2.1. evaluate blocked pawns\n",
    "- 2.2 evaluate doubled pawns\n",
    "- 2.3. evaluate isolated pawns\n",
    "3. evaluate mobility -open-\n",
    "4. evaluate stalemate and 75 moves rule -open-"
   ]
  },
  {
   "cell_type": "code",
   "execution_count": 7,
   "metadata": {},
   "outputs": [],
   "source": [
    "# Maximum number of moves is 5898 (due to the 50 Moves Rule - that makes this number big enough)\n",
    "WIN_VALUE = 100000\n",
    "\n",
    "def static_eval(board):\n",
    "    if board.result() == \"1-0\":\n",
    "        return WIN_VALUE - board.fullmove_number\n",
    "    elif board.result() == \"0-1\":\n",
    "        return -WIN_VALUE + board.fullmove_number\n",
    "    elif board.result() == \"1/2-1/2\" or board.is_stalemate() or board.is_insufficient_material() or board.is_seventyfive_moves() or board.is_fivefold_repetition():\n",
    "        return 0\n",
    "    \n",
    "    value = 0\n",
    "    blocked_pawns_white = 0\n",
    "    doubled_pawns_white = 0\n",
    "    isolated_pawns_white = 0\n",
    "    blocked_pawns_black = 0\n",
    "    doubled_pawns_black = 0\n",
    "    isolated_pawns_black = 0\n",
    "    \n",
    "    \n",
    "    # 1. evaluate piece values -------------------------------------------\n",
    "    # Types:\n",
    "    \"\"\"{chess.PAWN, chess.KNIGHT, chess.BISHOP,\n",
    "             chess.ROOK, chess.QUEEN, chess.KING}\"\"\"\n",
    "    piece_values = [1, \n",
    "                    3, \n",
    "                    3, \n",
    "                    5,\n",
    "                    9]\n",
    "    for i, piece_value in enumerate(piece_values): # https://www.chessprogramming.org/Simplified_Evaluation_Function\n",
    "        # BAUERN\n",
    "        if i == 0:\n",
    "            legal_moves = set(board.legal_moves)\n",
    "            file_white = [0, 0, 0, 0, 0, 0, 0, 0]\n",
    "            file_black = [0, 0, 0, 0, 0, 0, 0, 0]\n",
    "            \n",
    "            for square in board.pieces(1, chess.WHITE):\n",
    "                pawn_blocked = True\n",
    "                move_one = chess.Move(square, square + 8)\n",
    "                move_two = chess.Move(square, square + 16)\n",
    "                move_three = chess.Move(square, square + 7)\n",
    "                move_four = chess.Move(square, square + 9)\n",
    "                if move_one in legal_moves or move_two in legal_moves or move_three in legal_moves or move_four in legal_moves:\n",
    "                    pawn_blocked = False\n",
    "                if pawn_blocked:\n",
    "                    blocked_pawns_white += 1\n",
    "                if file_white[chess.square_file(square)] == 1:\n",
    "                    doubled_pawns_white += 1\n",
    "                else:\n",
    "                    file_white[chess.square_file(square)] = 1\n",
    "            if file_white[0] == 1 and file_white[1] == 0:\n",
    "                isolated_pawns_white += 1\n",
    "            if file_white[7] == 1 and file_white[6] == 0:\n",
    "                isolated_pawns_white += 1\n",
    "            for j in range(1, 7):\n",
    "                if file_white[i] == 1 and file_white[i+1] == 0 and file_white[i-1] == 0:\n",
    "                    isolated_pawns_white += 1\n",
    "                    \n",
    "            for square in board.pieces(1, chess.BLACK):\n",
    "                pawn_blocked = True\n",
    "                move_one = chess.Move(square, square - 8)\n",
    "                move_two = chess.Move(square, square - 16)\n",
    "                move_three = chess.Move(square, square - 7)\n",
    "                move_four = chess.Move(square, square - 9)\n",
    "                if move_one in legal_moves or move_two in legal_moves or move_three in legal_moves or move_four in legal_moves:\n",
    "                    pawn_blocked = False\n",
    "                if pawn_blocked:\n",
    "                    blocked_pawns_black += 1\n",
    "                if file_black[chess.square_file(square)] == 1:\n",
    "                    doubled_pawns_black += 1\n",
    "                else:\n",
    "                    file_black[chess.square_file(square)] = 1\n",
    "            if file_black[0] == 1 and file_black[1] == 0:\n",
    "                isolated_pawns_black += 1\n",
    "            if file_black[7] == 1 and file_black[6] == 0:\n",
    "                isolated_pawns_black += 1\n",
    "            for j in range(1, 7):\n",
    "                if file_black[i] == 1 and file_black[i+1] == 0 and file_black[i-1] == 0:\n",
    "                    isolated_pawns_black += 1\n",
    "        # SPRINGER AM RAND BEDEUTET KUMMER UND SCHAND' \n",
    "        if i == 1:\n",
    "            for square in board.pieces(2, chess.WHITE):\n",
    "                if chess.square_file(square) == 0 or chess.square_file(square) == 7:\n",
    "                    value -= 0.3\n",
    "            for square in board.pieces(2, chess.BLACK):\n",
    "                if chess.square_file(square) == 0 or chess.square_file(square) == 7:\n",
    "                    value += 0.3\n",
    "                    \n",
    "        # LÄUFER AM RAND BEDEUTET KUMMER UND UMMER (UND AUCH 'N BISSCHEN SCHAND')\n",
    "        if i == 2:\n",
    "            for square in board.pieces(3, chess.WHITE):\n",
    "                if chess.square_file(square) == 0 or chess.square_file(square) == 7:\n",
    "                    value -= 0.1\n",
    "            for square in board.pieces(3, chess.BLACK):\n",
    "                if chess.square_file(square) == 0 or chess.square_file(square) == 7:\n",
    "                    value += 0.1\n",
    "                                \n",
    "        value += len(board.pieces(i+1, chess.WHITE))*piece_value\n",
    "        value -= len(board.pieces(i+1, chess.BLACK))*piece_value\n",
    "    \n",
    "    # 2.1 Blocked Pawns\n",
    "    if not board.is_check():\n",
    "        value -= 0.1 * (blocked_pawns_white - blocked_pawns_black)\n",
    "    \n",
    "    # 2.2 Doubled Pawns\n",
    "    value -= 0.5 * (doubled_pawns_white - doubled_pawns_black)\n",
    "    \n",
    "    # 2.3 Isolated Pawns\n",
    "    value -= 0.5 * (isolated_pawns_white - isolated_pawns_black)\n",
    "    \n",
    "    return value"
   ]
  },
  {
   "cell_type": "markdown",
   "metadata": {},
   "source": [
    "## Calculate how many doubled pawns exist for a given file_dict"
   ]
  },
  {
   "cell_type": "code",
   "execution_count": 3,
   "metadata": {},
   "outputs": [],
   "source": [
    "def count_doubled_pawns(file_dict):\n",
    "    return len([file_count for file_count in file_dict if file_dict[file_count]>1])"
   ]
  },
  {
   "cell_type": "markdown",
   "metadata": {},
   "source": [
    "## Calculate isolated pawns"
   ]
  },
  {
   "cell_type": "code",
   "execution_count": 4,
   "metadata": {},
   "outputs": [],
   "source": [
    "def has_adjacent_pawn(file_dict,file_count):\n",
    "    if file_count == 1:\n",
    "        return file_dict[2]\n",
    "    elif file_count == 8:\n",
    "        return file_dict[7]\n",
    "    else:\n",
    "        return file_dict[file_count+1] or file_dict[file_count-1]"
   ]
  },
  {
   "cell_type": "code",
   "execution_count": 5,
   "metadata": {},
   "outputs": [],
   "source": [
    "def count_isolated_pawns(file_dict):\n",
    "    return len([file_count for file_count in file_dict if not has_adjacent_pawn(file_dict,file_count)])"
   ]
  },
  {
   "cell_type": "markdown",
   "metadata": {},
   "source": [
    "## Analyze Pawns for a given color:\n",
    "- Returns: tuple:\n",
    "    - blocked_pawns \n",
    "    - doubled_pawns\n",
    "    - isolated_pawns\n",
    "    \n",
    "Steps:\n",
    "1. Build dict: {file_number:pawn_count} --> {1:2, 2:0, 3:1} while counting blocked pawns\n",
    "2. calculate doubled pawns\n",
    "3. calculate isolated pawns\n",
    "4. return (blocked_pawns, doubled_pawns, isolated_pawns)"
   ]
  },
  {
   "cell_type": "code",
   "execution_count": 6,
   "metadata": {},
   "outputs": [],
   "source": [
    "def analyze_pawns(board,color):\n",
    "    file_dict = {}\n",
    "    legal_moves = set(board.legal_moves)\n",
    "    blocked_pawns = 0\n",
    "    \n",
    "    for file_count, file in enumerate(chess.FILE_NAMES,start=1):\n",
    "        file_dict[file_count] = 0\n",
    "        for rank in chess.RANK_NAMES:\n",
    "            square = chess.parse_square(file + rank)\n",
    "            if board.piece_type_at(square) == chess.PAWN and board.color_at(square) == color:\n",
    "                file_dict[file_count] += 1\n",
    "                \n",
    "                pawn_blocked = True\n",
    "                for move in legal_moves:\n",
    "                    if move.from_square == square:\n",
    "                        pawn_blocked = False\n",
    "                        legal_moves.remove(move)\n",
    "                        break\n",
    "                if pawn_blocked:\n",
    "                    blocked_pawns+=1\n",
    "    \n",
    "    \n",
    "    return (blocked_pawns,count_doubled_pawns(file_dict),count_isolated_pawns(file_dict))"
   ]
  },
  {
   "cell_type": "markdown",
   "metadata": {},
   "source": [
    "## Main minimax function"
   ]
  },
  {
   "cell_type": "code",
   "execution_count": 7,
   "metadata": {},
   "outputs": [],
   "source": [
    "def minimax(board, depth, maximizing_player, moves):\n",
    "    if depth == 0 or (not board.legal_moves):\n",
    "        return (static_eval(board), moves)\n",
    "        \n",
    "\n",
    "    if maximizing_player:\n",
    "        max_val = -math.inf\n",
    "        max_move = None\n",
    "        for move in board.legal_moves:\n",
    "            board.push(move)\n",
    "            value, _ = minimax(board, depth - 1, False, moves + [move])\n",
    "            board.pop()\n",
    "            max_val = max(max_val, value)\n",
    "            if max_val == value:\n",
    "                max_move = move\n",
    "        assert board.legal_moves\n",
    "        assert not max_move == None\n",
    "        return max_val, moves + [max_move]\n",
    "    else:\n",
    "        min_val = +math.inf\n",
    "        min_move = None\n",
    "        for move in board.legal_moves:\n",
    "            board.push(move)\n",
    "            value, _ = minimax(board, depth - 1, True, moves + [move])\n",
    "\n",
    "            board.pop()\n",
    "            min_val = min(min_val, value)\n",
    "            if min_val == value:\n",
    "                min_move = move\n",
    "        assert board.legal_moves\n",
    "        assert not min_move == None\n",
    "        return min_val, moves + [min_move]"
   ]
  },
  {
   "cell_type": "code",
   "execution_count": 8,
   "metadata": {},
   "outputs": [],
   "source": [
    "def minimax_for_color(board, color, depth):\n",
    "    return minimax(board, depth, color, [])"
   ]
  },
  {
   "cell_type": "code",
   "execution_count": null,
   "metadata": {},
   "outputs": [],
   "source": []
  }
 ],
 "metadata": {
  "kernelspec": {
   "display_name": "Python 3",
   "language": "python",
   "name": "python3"
  },
  "language_info": {
   "codemirror_mode": {
    "name": "ipython",
    "version": 3
   },
   "file_extension": ".py",
   "mimetype": "text/x-python",
   "name": "python",
   "nbconvert_exporter": "python",
   "pygments_lexer": "ipython3",
   "version": "3.9.1"
  }
 },
 "nbformat": 4,
 "nbformat_minor": 4
}
