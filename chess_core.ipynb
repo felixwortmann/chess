{
 "cells": [
  {
   "cell_type": "code",
   "execution_count": 1,
   "metadata": {},
   "outputs": [],
   "source": [
    "import chess\n",
    "import chess.polyglot\n",
    "import math\n",
    "import random"
   ]
  },
  {
   "cell_type": "code",
   "execution_count": 2,
   "metadata": {},
   "outputs": [
    {
     "data": {
      "text/html": [
       "<link href='http://fonts.googleapis.com/css?family=Alegreya+Sans:100,300,400,500,700,800,900,100italic,300italic,400italic,500italic,700italic,800italic,900italic' rel='stylesheet' type='text/css'>\n",
       "<link href='http://fonts.googleapis.com/css?family=Arvo:400,700,400italic' rel='stylesheet' type='text/css'>\n",
       "<link href='http://fonts.googleapis.com/css?family=PT+Mono' rel='stylesheet' type='text/css'>\n",
       "<link href='http://fonts.googleapis.com/css?family=Shadows+Into+Light' rel='stylesheet' type='text/css'>\n",
       "<link href='http://fonts.googleapis.com/css?family=Philosopher:400,700,400italic,700italic' rel='stylesheet' type='text/css'>\n",
       "\n",
       "<style>\n",
       "\n",
       "@font-face {\n",
       "    font-family: \"Computer Modern\";\n",
       "    src: url('http://mirrors.ctan.org/fonts/cm-unicode/fonts/otf/cmunss.otf');\n",
       "}\n",
       "\n",
       ".container { width: 100% }\n",
       "\n",
       "/* Formatting for header cells */\n",
       ".text_cell_render h1 {\n",
       "    font-family: 'Philosopher', sans-serif;\n",
       "    font-weight: 400;\n",
       "    font-size: 2.2em;\n",
       "    line-height: 100%;\n",
       "    color: rgb(0, 80, 120);\n",
       "    margin-bottom: 0.1em;\n",
       "    margin-top: 0.1em;\n",
       "    display: block;\n",
       "}\t\n",
       ".text_cell_render h2 {\n",
       "    font-family: 'Philosopher', serif;\n",
       "    font-weight: 400;\n",
       "    font-size: 1.9em;\n",
       "    line-height: 100%;\n",
       "    color: rgb(200,100,0);\n",
       "    margin-bottom: 0.1em;\n",
       "    margin-top: 0.1em;\n",
       "    display: block;\n",
       "}\t\n",
       "\n",
       ".text_cell_render h3 {\n",
       "    font-family: 'Philosopher', serif;\n",
       "    margin-top:12px;\n",
       "    margin-bottom: 3px;\n",
       "    font-style: italic;\n",
       "    color: rgb(94,127,192);\n",
       "}\n",
       "\n",
       ".text_cell_render h4 {\n",
       "    font-family: 'Philosopher', serif;\n",
       "}\n",
       "\n",
       ".text_cell_render h5 {\n",
       "    font-family: 'Alegreya Sans', sans-serif;\n",
       "    font-weight: 300;\n",
       "    font-size: 16pt;\n",
       "    color: grey;\n",
       "    font-style: italic;\n",
       "    margin-bottom: .1em;\n",
       "    margin-top: 0.1em;\n",
       "    display: block;\n",
       "}\n",
       "\n",
       ".text_cell_render h6 {\n",
       "    font-family: 'PT Mono', sans-serif;\n",
       "    font-weight: 300;\n",
       "    font-size: 10pt;\n",
       "    color: grey;\n",
       "    margin-bottom: 1px;\n",
       "    margin-top: 1px;\n",
       "}\n",
       "\n",
       ".CodeMirror{\n",
       "        font-family: \"PT Mono\";\n",
       "        font-size: 100%;\n",
       "}\n",
       "\n",
       "</style>\n",
       "\n"
      ],
      "text/plain": [
       "<IPython.core.display.HTML object>"
      ]
     },
     "execution_count": 2,
     "metadata": {},
     "output_type": "execute_result"
    }
   ],
   "source": [
    "# Define Styles\n",
    "from IPython.core.display import HTML\n",
    "with open('style.css','r') as file:\n",
    "    css = file.read()\n",
    "HTML(css)"
   ]
  },
  {
   "cell_type": "markdown",
   "metadata": {},
   "source": [
    "# Evaluation of the given state\n",
    "https://www.chessprogramming.org/Simplified_Evaluation_Function"
   ]
  },
  {
   "cell_type": "markdown",
   "metadata": {},
   "source": [
    "## Hash function (zobrist hash)"
   ]
  },
  {
   "cell_type": "code",
   "execution_count": 3,
   "metadata": {},
   "outputs": [],
   "source": [
    "# Maximum number of moves is 5898 (due to the 50 Moves Rule - that makes this number big enough)\n",
    "WIN_VALUE = 2147483647\n",
    "CACHED_VALUES = None\n",
    "CACHED_VALUES_ACCESS_COUNT = 0\n",
    "OVERALL_ACCESS_COUNT = 0\n",
    "TABLE = [[random.randint(0, 2**64 - 1) for piece_value in range(1,13)] for square in range(1,65)]\n",
    "\n",
    "def piece_key(piece):\n",
    "    return (piece.piece_type + (6 if piece.color else 0)) - 1\n",
    "\n",
    "def zobrist_hash(board):\n",
    "    return chess.polyglot.zobrist_hash(board)"
   ]
  },
  {
   "cell_type": "markdown",
   "metadata": {},
   "source": [
    "## Evaluation function"
   ]
  },
  {
   "cell_type": "markdown",
   "metadata": {},
   "source": [
    "### Piece-Square Tables\n",
    "Source: https://www.chessprogramming.org/Simplified_Evaluation_Function#Piece-Square_Tables"
   ]
  },
  {
   "cell_type": "code",
   "execution_count": 4,
   "metadata": {},
   "outputs": [],
   "source": [
    "black_pawn_values = [0,  0,  0,  0,  0,  0,  0,  0,\n",
    "                     50, 50, 50, 50, 50, 50, 50, 50,\n",
    "                     10, 10, 20, 30, 30, 20, 10, 10,\n",
    "                     5,  5, 10, 25, 25, 10,  5,  5,\n",
    "                     0,  0,  0, 20, 20,  0,  0,  0,\n",
    "                     5, -5, -10,  0,  0, -10, -5,  5,\n",
    "                     5, 10, 10, -20, -20, 10, 10,  5,\n",
    "                     0,  0,  0,  0,  0,  0,  0,  0]\n",
    "\n",
    "black_knight_values = [-50, -40, -30, -30, -30, -30, -40, -50,\n",
    "                       -40, -20,  0,  0,  0,  0, -20, -40,\n",
    "                       -30,  0, 10, 15, 15, 10,  0, -30,\n",
    "                       -30,  5, 15, 20, 20, 15,  5, -30,\n",
    "                       -30,  0, 15, 20, 20, 15,  0, -30,\n",
    "                       -30,  5, 10, 15, 15, 10,  5, -30,\n",
    "                       -40, -20,  0,  5,  5,  0, -20, -40,\n",
    "                       -50, -40, -30, -30, -30, -30, -40, -50]\n",
    "\n",
    "black_bishop_values = [-20, -10, -10, -10, -10, -10, -10, -20,\n",
    "                       -10,  0,  0,  0,  0,  0,  0, -10,\n",
    "                       -10,  0,  5, 10, 10,  5,  0, -10,\n",
    "                       -10,  5,  5, 10, 10,  5,  5, -10,\n",
    "                       -10,  0, 10, 10, 10, 10,  0, -10,\n",
    "                       -10, 10, 10, 10, 10, 10, 10, -10,\n",
    "                       -10,  5,  0,  0,  0,  0,  5, -10,\n",
    "                       -20, -10, -10, -10, -10, -10, -10, -20]\n",
    "\n",
    "black_rook_values = [0,  0,  0,  0,  0,  0,  0,  0,\n",
    "                     5, 10, 10, 10, 10, 10, 10,  5,\n",
    "                     -5,  0,  0,  0,  0,  0,  0, -5,\n",
    "                     -5,  0,  0,  0,  0,  0,  0, -5,\n",
    "                     -5,  0,  0,  0,  0,  0,  0, -5,\n",
    "                     -5,  0,  0,  0,  0,  0,  0, -5,\n",
    "                     -5,  0,  0,  0,  0,  0,  0, -5,\n",
    "                     0,  0,  0,  5,  5,  0,  0,  0]\n",
    "\n",
    "black_queen_values = [-20, -10, -10, -5, -5, -10, -10, -20,\n",
    "                      -10,  0,  0,  0,  0,  0,  0, -10,\n",
    "                      -10,  0,  5,  5,  5,  5,  0, -10,\n",
    "                      -5,  0,  5,  5,  5,  5,  0, -5,\n",
    "                      0,  0,  5,  5,  5,  5,  0, -5,\n",
    "                      -10,  5,  5,  5,  5,  5,  0, -10,\n",
    "                      -10,  0,  5,  0,  0,  0,  0, -10,\n",
    "                      -20, -10, -10, -5, -5, -10, -10, -20]\n",
    "\n",
    "black_king_values_middlegame = [-30, -40, -40, -50, -50, -40, -40, -30,\n",
    "                                -30, -40, -40, -50, -50, -40, -40, -30,\n",
    "                                -30, -40, -40, -50, -50, -40, -40, -30,\n",
    "                                -30, -40, -40, -50, -50, -40, -40, -30,\n",
    "                                -20, -30, -30, -40, -40, -30, -30, -20,\n",
    "                                -10, -20, -20, -20, -20, -20, -20, -10,\n",
    "                                20, 20,  0,  0,  0,  0, 20, 20,\n",
    "                                20, 30, 10,  0,  0, 10, 30, 20]\n",
    "\n",
    "black_king_values_endgame = [-50, -40, -30, -20, -20, -30, -40, -50,\n",
    "                             -30, -20, -10,  0,  0, -10, -20, -30,\n",
    "                             -30, -10, 20, 30, 30, 20, -10, -30,\n",
    "                             -30, -10, 30, 40, 40, 30, -10, -30,\n",
    "                             -30, -10, 30, 40, 40, 30, -10, -30,\n",
    "                             -30, -10, 20, 30, 30, 20, -10, -30,\n",
    "                             -30, -30,  0,  0,  0,  0, -30, -30,\n",
    "                             -50, -30, -30, -30, -30, -30, -30, -50]\n"
   ]
  },
  {
   "cell_type": "markdown",
   "metadata": {},
   "source": [
    "# Evaluation functions"
   ]
  },
  {
   "cell_type": "markdown",
   "metadata": {},
   "source": [
    "## Auxiliary functions\n",
    "\n",
    "`is_endgame` takes the current `board` and returns with help of `color_endgame` wether both players match the criteria for the endgame according to the simple evaluation function. (See https://www.chessprogramming.org/Simplified_Evaluation_Function#King).\n",
    "\n",
    "The functions will be used for the evaluation of the king's position using the piece-square table."
   ]
  },
  {
   "cell_type": "code",
   "execution_count": 5,
   "metadata": {},
   "outputs": [],
   "source": [
    "def color_endgame(board, color):\n",
    "    return len(board.pieces(chess.QUEEN, color)) == 0 or (len(board.pieces(chess.BISHOP, color)) + len(board.pieces(chess.KNIGHT, color)) + len(board.pieces(chess.ROOK, color))) < 2\n",
    "\n",
    "def is_endgame(board):\n",
    "    white_endgame = color_endgame(board, chess.WHITE)\n",
    "    black_endgame = color_endgame(board, chess.BLACK)\n",
    "    return white_endgame and black_endgame"
   ]
  },
  {
   "cell_type": "markdown",
   "metadata": {},
   "source": [
    "## Raw evaluation function\n",
    "\n",
    "The function takes the parameters `board` (the current board) and `endgame` (if the players are in the endgame) and evaluates the current state of the board according to the simplified evaluation function."
   ]
  },
  {
   "cell_type": "code",
   "execution_count": 6,
   "metadata": {},
   "outputs": [],
   "source": [
    "def static_eval(board, endgame):\n",
    "    # Check if game is over\n",
    "    if (board.result() == \"1-0\" and board.turn) or (board.result() == \"0-1\" and not board.turn):\n",
    "        result = WIN_VALUE - board.fullmove_number\n",
    "        return result\n",
    "    elif (board.result() == \"0-1\" and board.turn) or (board.result() == \"1-0\" and not board.turn):\n",
    "        result = -WIN_VALUE + board.fullmove_number\n",
    "        return result\n",
    "    elif board.result() == \"1/2-1/2\" or board.is_stalemate() or board.is_insufficient_material() or board.is_seventyfive_moves() or board.is_fivefold_repetition():\n",
    "        result = 0\n",
    "        return result\n",
    "    \n",
    "    value = 0\n",
    "    \n",
    "    # Piece values, numbers represent centipawns; Pawn, Knight, Bishop, Rook, Queen\n",
    "    # Source: https://www.chessprogramming.org/Simplified_Evaluation_Function#Piece_Values\n",
    "    piece_values = [100, 320, 330, 500, 900]\n",
    "    \n",
    "    for piece_type, piece_value in enumerate(piece_values):\n",
    "        piece_type += 1\n",
    "        \n",
    "        player_pieces = board.pieces(piece_type, board.turn)\n",
    "        enemy_pieces = board.pieces(piece_type, not board.turn)\n",
    "        \n",
    "        value += len(player_pieces)*piece_value\n",
    "        value -= len(enemy_pieces)*piece_value\n",
    "        \n",
    "        if piece_type == chess.PAWN:\n",
    "            value += piece_square_tables(black_pawn_values, player_pieces, enemy_pieces, board)\n",
    "            \n",
    "        if piece_type == chess.KNIGHT:\n",
    "            value += piece_square_tables(black_knight_values, player_pieces, enemy_pieces, board)\n",
    "            \n",
    "        if piece_type == chess.BISHOP:\n",
    "            value += piece_square_tables(black_bishop_values, player_pieces, enemy_pieces, board)\n",
    "            \n",
    "        if piece_type == chess.ROOK:\n",
    "            value += piece_square_tables(black_rook_values, player_pieces, enemy_pieces, board)\n",
    "            \n",
    "        if piece_type == chess.QUEEN:\n",
    "            value += piece_square_tables(black_queen_values, player_pieces, enemy_pieces, board)\n",
    "            \n",
    "        if piece_type == chess.KING:\n",
    "            if endgame:\n",
    "                value += piece_square_tables(black_king_values_endgame, player_pieces, enemy_pieces, board)\n",
    "            else:\n",
    "                value += piece_square_tables(black_king_values_middlegame, player_pieces, enemy_pieces, board)\n",
    "    return value"
   ]
  },
  {
   "cell_type": "markdown",
   "metadata": {},
   "source": [
    "### Function for the Piece-Square Tables\n",
    "\n",
    "This function calculates the value using `black_piece_values` (according to the piece-square tables), `player_pieces` and `enemy_pieces` (the list of the player's respectively the opponent's pieces) as well as the current `board` and returns the calculated value which will be added to the already calculated one. "
   ]
  },
  {
   "cell_type": "code",
   "execution_count": 7,
   "metadata": {},
   "outputs": [],
   "source": [
    "def piece_square_tables(black_piece_values, player_pieces, enemy_pieces, board):\n",
    "    value = 0\n",
    "    white_piece_values = black_piece_values[::-1]\n",
    "    \n",
    "    for piece in player_pieces:\n",
    "        if board.turn:\n",
    "            value += white_piece_values[piece]\n",
    "        else:\n",
    "            value += black_piece_values[piece]\n",
    "            \n",
    "    for piece in enemy_pieces:\n",
    "        if board.turn:\n",
    "            value -= black_piece_values[piece]\n",
    "        else:\n",
    "            value -= white_piece_values[piece]\n",
    "            \n",
    "    return value"
   ]
  },
  {
   "cell_type": "markdown",
   "metadata": {},
   "source": [
    "## Main minimax function\n",
    "\n",
    "The main function implementing the minimax algorithm takes the following parameters:\n",
    "\n",
    "- `board`, the current board\n",
    "- `depth`, the depth to which the board will be analyzed\n",
    "- `alpha` and `beta`, needed for Alpha-Beta-Pruning\n",
    "\n",
    "The function returns the biggest calculated value and it sets the global variable `BEST_MOVE` which is the move to play.  \n",
    "The calculated value is also being added to the cache entries or, if it already exists, directly returns the value from the cache."
   ]
  },
  {
   "cell_type": "code",
   "execution_count": 8,
   "metadata": {},
   "outputs": [],
   "source": [
    "# TODO DOCUMENTATION!!!1!elf\n",
    "# key: (zobrist_hash(board), depth)\n",
    "# value: (value, uci_move, alpha, beta)\n",
    "cache = {}"
   ]
  },
  {
   "cell_type": "code",
   "execution_count": 13,
   "metadata": {},
   "outputs": [],
   "source": [
    "ANALYZING_DEPTH = None\n",
    "\n",
    "def cached_minimax(board, depth, alpha, beta):\n",
    "    global BEST_MOVE\n",
    "    \n",
    "    cache_key = (zobrist_hash(board), depth)\n",
    "    \n",
    "    if cache_key in cache.keys():\n",
    "        c_value, c_uci_move, c_alpha, c_beta = cache[cache_key]\n",
    "        \n",
    "        if c_alpha <= alpha and beta <= c_beta:\n",
    "            BEST_MOVE = Move.from_uci(c_uci_move)\n",
    "            return c_value\n",
    "        \n",
    "        else:            \n",
    "            min_alpha = min(alpha, c_alpha)\n",
    "            max_beta = max(beta, c_beta)\n",
    "            value = minimax(board, depth, min_alpha, max_beta) # BEST_MOVE is set here\n",
    "            cache[cache_key] = (value, BEST_MOVE.uci, min_alpha, max_beta)\n",
    "            return value\n",
    "    else:\n",
    "        value = minimax(board, depth, alpha, beta) # BEST_MOVE is set here\n",
    "        cache[cache_key] = (value, BEST_MOVE.uci, alpha, beta)\n",
    "        return value"
   ]
  },
  {
   "cell_type": "code",
   "execution_count": 14,
   "metadata": {},
   "outputs": [],
   "source": [
    "def minimax(board, depth, alpha, beta):\n",
    "    global BEST_MOVE\n",
    "    \n",
    "    if (depth == 0 or not board.legal_moves):\n",
    "        value = static_eval(board, is_endgame(board))\n",
    "        return value\n",
    "    \n",
    "    max_value = alpha\n",
    "    \n",
    "    for move in board.legal_moves:\n",
    "        board.push(move)\n",
    "        value = -minimax(board, depth - 1, -beta, -max_value)\n",
    "        board.pop()\n",
    "        if (value > max_value):\n",
    "            max_value = value\n",
    "            if (depth == ANALYZING_DEPTH):\n",
    "                BEST_MOVE = move;\n",
    "            if (max_value >= beta):\n",
    "                break\n",
    "    \n",
    "    return max_value"
   ]
  },
  {
   "cell_type": "markdown",
   "metadata": {},
   "source": [
    "### Input function for minimax\n",
    "This function takes the current `board` and the desired `depth` and sets global variables for caching (`CACHED_VALUES` and `CACHED_VALUES_EVAL`) and debugging (`STATIC_EVAL_EXECUTIONS`, `MINIMAX_EXECUTIONS`, and `OVERALL_MINIMAX_EXECUTIONS`) purposes. It checks, whether the move is in the opening library and, if so, returns the documented move. If the move is not in the opening library, it calls `minimax` with the correct parameters. "
   ]
  },
  {
   "cell_type": "code",
   "execution_count": 11,
   "metadata": {},
   "outputs": [],
   "source": [
    "BEST_MOVE = None\n",
    "\n",
    "def minimax_input(board, depth):\n",
    "    global ANALYZING_DEPTH\n",
    "    ANALYZING_DEPTH = depth\n",
    "    \n",
    "    value, polyglot_move = get_polyglot_move(board)\n",
    "    if polyglot_move:\n",
    "        return value, polyglot_move\n",
    "    \n",
    "    return cached_minimax(board, depth, -math.inf, math.inf), BEST_MOVE"
   ]
  },
  {
   "cell_type": "markdown",
   "metadata": {},
   "source": [
    "### Using the opening library\n",
    "This auxiliary function takes the current `board` and checks if the played move is in an external opening library. It then chooses a random move, proposed by the library and returns the value 0 and the `move`."
   ]
  },
  {
   "cell_type": "code",
   "execution_count": 12,
   "metadata": {},
   "outputs": [],
   "source": [
    "POLYGLOT_PATH = \"data/polyglot/performance.bin\"\n",
    "def get_polyglot_move(board):\n",
    "    \n",
    "    with chess.polyglot.open_reader(POLYGLOT_PATH) as reader:\n",
    "        \n",
    "        for entry in set(reader.find_all(board)):\n",
    "                return 0, entry.move\n",
    "            \n",
    "        return 0, None"
   ]
  }
 ],
 "metadata": {
  "kernelspec": {
   "display_name": "Python 3",
   "language": "python",
   "name": "python3"
  },
  "language_info": {
   "codemirror_mode": {
    "name": "ipython",
    "version": 3
   },
   "file_extension": ".py",
   "mimetype": "text/x-python",
   "name": "python",
   "nbconvert_exporter": "python",
   "pygments_lexer": "ipython3",
   "version": "3.9.1"
  }
 },
 "nbformat": 4,
 "nbformat_minor": 4
}
