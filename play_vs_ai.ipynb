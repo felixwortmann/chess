{
 "cells": [
  {
   "cell_type": "code",
   "execution_count": 2,
   "metadata": {
    "pycharm": {
     "name": "#%%\n"
    }
   },
   "outputs": [
    {
     "data": {
      "text/html": [
       "<link href='http://fonts.googleapis.com/css?family=Alegreya+Sans:100,300,400,500,700,800,900,100italic,300italic,400italic,500italic,700italic,800italic,900italic' rel='stylesheet' type='text/css'>\n",
       "<link href='http://fonts.googleapis.com/css?family=Arvo:400,700,400italic' rel='stylesheet' type='text/css'>\n",
       "<link href='http://fonts.googleapis.com/css?family=PT+Mono' rel='stylesheet' type='text/css'>\n",
       "<link href='http://fonts.googleapis.com/css?family=Shadows+Into+Light' rel='stylesheet' type='text/css'>\n",
       "<link href='http://fonts.googleapis.com/css?family=Philosopher:400,700,400italic,700italic' rel='stylesheet' type='text/css'>\n",
       "\n",
       "<style>\n",
       "\n",
       "@font-face {\n",
       "    font-family: \"Computer Modern\";\n",
       "    src: url('http://mirrors.ctan.org/fonts/cm-unicode/fonts/otf/cmunss.otf');\n",
       "}\n",
       "\n",
       ".container { width: 100% }\n",
       "\n",
       "/* Formatting for header cells */\n",
       ".text_cell_render h1 {\n",
       "    font-family: 'Philosopher', sans-serif;\n",
       "    font-weight: 400;\n",
       "    font-size: 2.2em;\n",
       "    line-height: 100%;\n",
       "    color: rgb(0, 80, 120);\n",
       "    margin-bottom: 0.1em;\n",
       "    margin-top: 0.1em;\n",
       "    display: block;\n",
       "}\t\n",
       ".text_cell_render h2 {\n",
       "    font-family: 'Philosopher', serif;\n",
       "    font-weight: 400;\n",
       "    font-size: 1.9em;\n",
       "    line-height: 100%;\n",
       "    color: rgb(200,100,0);\n",
       "    margin-bottom: 0.1em;\n",
       "    margin-top: 0.1em;\n",
       "    display: block;\n",
       "}\t\n",
       "\n",
       ".text_cell_render h3 {\n",
       "    font-family: 'Philosopher', serif;\n",
       "    margin-top:12px;\n",
       "    margin-bottom: 3px;\n",
       "    font-style: italic;\n",
       "    color: rgb(94,127,192);\n",
       "}\n",
       "\n",
       ".text_cell_render h4 {\n",
       "    font-family: 'Philosopher', serif;\n",
       "}\n",
       "\n",
       ".text_cell_render h5 {\n",
       "    font-family: 'Alegreya Sans', sans-serif;\n",
       "    font-weight: 300;\n",
       "    font-size: 16pt;\n",
       "    color: grey;\n",
       "    font-style: italic;\n",
       "    margin-bottom: .1em;\n",
       "    margin-top: 0.1em;\n",
       "    display: block;\n",
       "}\n",
       "\n",
       ".text_cell_render h6 {\n",
       "    font-family: 'PT Mono', sans-serif;\n",
       "    font-weight: 300;\n",
       "    font-size: 10pt;\n",
       "    color: grey;\n",
       "    margin-bottom: 1px;\n",
       "    margin-top: 1px;\n",
       "}\n",
       "\n",
       ".CodeMirror{\n",
       "        font-family: \"PT Mono\";\n",
       "        font-size: 100%;\n",
       "}\n",
       "\n",
       "</style>\n",
       "\n"
      ],
      "text/plain": [
       "<IPython.core.display.HTML object>"
      ]
     },
     "execution_count": 2,
     "metadata": {},
     "output_type": "execute_result"
    }
   ],
   "source": [
    "import time\n",
    "import os\n",
    "from IPython.display import clear_output\n",
    "\n",
    "# Define Styles\n",
    "from IPython.display import display\n",
    "from IPython.core.display import HTML\n",
    "\n",
    "with open('style.css', 'r') as file:\n",
    "    css = file.read()\n",
    "HTML(css)"
   ]
  },
  {
   "cell_type": "markdown",
   "metadata": {},
   "source": [
    "### Basic setup"
   ]
  },
  {
   "cell_type": "code",
   "execution_count": 19,
   "metadata": {},
   "outputs": [],
   "source": [
    "%run chess_core.ipynb\n",
    "board = chess.Board()\n",
    "board = board.root()\n",
    "clear_output(wait=True)"
   ]
  },
  {
   "cell_type": "markdown",
   "metadata": {},
   "source": [
    "### Manually adjusting the depth if needed (default is 5)"
   ]
  },
  {
   "cell_type": "code",
   "execution_count": 20,
   "metadata": {},
   "outputs": [],
   "source": [
    "depth = 5"
   ]
  },
  {
   "cell_type": "markdown",
   "metadata": {},
   "source": [
    "### Play against the AI"
   ]
  },
  {
   "cell_type": "code",
   "execution_count": 1,
   "metadata": {},
   "outputs": [
    {
     "ename": "NameError",
     "evalue": "name 'board' is not defined",
     "output_type": "error",
     "traceback": [
      "\u001b[1;31m---------------------------------------------------------------------------\u001b[0m",
      "\u001b[1;31mNameError\u001b[0m                                 Traceback (most recent call last)",
      "\u001b[1;32m<timed exec>\u001b[0m in \u001b[0;36m<module>\u001b[1;34m\u001b[0m\n",
      "\u001b[1;31mNameError\u001b[0m: name 'board' is not defined"
     ]
    }
   ],
   "source": [
    "%%time\n",
    "display(board)\n",
    "log_dir_name = \".logs\"\n",
    "filepath = os.path.join(log_dir_name,\"log_\" + str(time.time()) + \".log\")\n",
    "if not os.path.exists(log_dir_name):\n",
    "    os.makedirs(log_dir_name)\n",
    "with open(filepath,'a') as logfile:\n",
    "    logfile.write(\"Depth: \" + str(depth) + \"\\n\\n\")\n",
    "    while not board.is_checkmate():\n",
    "        print(\"Player Move:\")\n",
    "        player_move = input()\n",
    "        player_uci_move = chess.Move.from_uci(player_move)\n",
    "        if not player_uci_move in board.legal_moves:\n",
    "            print(\"Illegal Move, try again\")\n",
    "            continue\n",
    "        board.push(player_uci_move)\n",
    "        clear_output(wait=True)\n",
    "        display(board)\n",
    "        start_time = time.time()\n",
    "        value, move = minimax_input(board, depth)\n",
    "        board.push(move)\n",
    "        clear_output(wait=True)\n",
    "        display(board)\n",
    "        time_for_move = time.time() - start_time\n",
    "        minimax_cache_ratio = CACHE_HITS / MINIMAX_CALLS * 100\n",
    "        print(\"AI Time:\", round(time_for_move, 2), \"seconds\")\n",
    "        print(\"AI Move:\\n\", move, \"| Value:\", value)\n",
    "        print(\"Minimax calls:\", MINIMAX_CALLS)\n",
    "        print(\"CACHE_HITS:\", CACHE_HITS, \"(\", (minimax_cache_ratio), \"%)\")\n",
    "        print(f\"Total Cache items: {len(CACHE)}\")\n",
    "        logfile.write(\"Player move:\" + str(player_move) +\n",
    "                      \" | FEN: \" + str(board.fen()) +\n",
    "                      \"\\n AI move: \" + str(move) + \n",
    "                      \" | Projected value: \" + str(value) + \n",
    "                      \" | Current value: \" + str(static_eval(board,is_endgame(board))) +\n",
    "                      \" | Time: \" + str(time_for_move) + \" seconds.\" +\n",
    "                      \"\\n Minimax accesses: \" + str(MINIMAX_CALLS) +  \n",
    "                      \" | Cache accesses: \" + str(CACHE_HITS) + \n",
    "                      \" | Ratio: \" + str(minimax_cache_ratio) + \"%\" + \n",
    "                      \"\\n ==================== \\n\")\n",
    "        win_state = winning_state(board)\n",
    "        if win_state == None:\n",
    "            pass\n",
    "        elif win_state == 0:\n",
    "            print(\"Game over, Remis!\")\n",
    "            logfile.write(\"Remis\")\n",
    "        elif win_state > 0:\n",
    "            print(\"Game over, You Won!\")\n",
    "            logfile.write(\"AI lost\")\n",
    "        elif win_state < 0:\n",
    "            print(\"Game over, You Lost!\")\n",
    "            logfile.write(\"AI won\")\n",
    "print(\"Log has been written to\", filepath)"
   ]
  },
  {
   "cell_type": "code",
   "execution_count": null,
   "metadata": {},
   "outputs": [],
   "source": []
  }
 ],
 "metadata": {
  "kernelspec": {
   "display_name": "Python 3",
   "language": "python",
   "name": "python3"
  },
  "language_info": {
   "codemirror_mode": {
    "name": "ipython",
    "version": 3
   },
   "file_extension": ".py",
   "mimetype": "text/x-python",
   "name": "python",
   "nbconvert_exporter": "python",
   "pygments_lexer": "ipython3",
   "version": "3.9.1"
  }
 },
 "nbformat": 4,
 "nbformat_minor": 4
}
